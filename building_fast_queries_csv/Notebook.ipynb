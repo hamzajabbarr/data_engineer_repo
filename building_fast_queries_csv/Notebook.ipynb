{
 "cells": [
  {
   "cell_type": "markdown",
   "metadata": {},
   "source": [
    "### Scenario:\n",
    "\n",
    "#### We own an online laptop store and want to build a way to answer few business questions about our inventory. We have taken a few data engineering courses and are hoping to appply the concepts we learned to our own business."
   ]
  },
  {
   "cell_type": "markdown",
   "metadata": {},
   "source": [
    "### Details:\n",
    "\n",
    "We have a dataset called laptops.csv that contains information about all the laptops in our inventory. Here is a brief description of the rows:\n",
    "\n",
    "- ID: A unique identifier for the laptop.\n",
    "\n",
    "- Company: The name of the company that produces the laptop.\n",
    "\n",
    "- Product: The name of the laptop.\n",
    "\n",
    "- TypeName: The type of laptop.\n",
    "\n",
    "- Inches: The size of the screen in inches.\n",
    "\n",
    "- ScreenResolution: The resolution of the screen.\n",
    "\n",
    "- CPU: The laptop CPU.\n",
    "\n",
    "- RAM: The amount of RAM in the laptop.\n",
    "\n",
    "- Memory: The size of the hard drive.\n",
    "- GPU: The graphics card name.\n",
    "\n",
    "- OpSys: The name of the operating system.\n",
    "\n",
    "- Weight: The laptop weight.\n",
    "\n",
    "- Price: The price of the laptop."
   ]
  },
  {
   "cell_type": "markdown",
   "metadata": {},
   "source": [
    "Let us begin by exploring the data. We learned that good coding practice is to always use built in modules and functions. So let us use the built in module csv to read in the data instead of resorting to something like pandas."
   ]
  },
  {
   "cell_type": "code",
   "execution_count": 1,
   "metadata": {},
   "outputs": [],
   "source": [
    "import csv"
   ]
  },
  {
   "cell_type": "code",
   "execution_count": 2,
   "metadata": {},
   "outputs": [],
   "source": [
    "with open(\"laptops.csv\") as file:\n",
    "    reader = csv.reader(file)\n",
    "    all_rows = list(reader)\n",
    "    header = all_rows[0]\n",
    "    rows = all_rows[1:]\n",
    "    \n",
    "    "
   ]
  },
  {
   "cell_type": "code",
   "execution_count": 3,
   "metadata": {},
   "outputs": [
    {
     "data": {
      "text/plain": [
       "['Id',\n",
       " 'Company',\n",
       " 'Product',\n",
       " 'TypeName',\n",
       " 'Inches',\n",
       " 'ScreenResolution',\n",
       " 'Cpu',\n",
       " 'Ram',\n",
       " 'Memory',\n",
       " 'Gpu',\n",
       " 'OpSys',\n",
       " 'Weight',\n",
       " 'Price']"
      ]
     },
     "execution_count": 3,
     "metadata": {},
     "output_type": "execute_result"
    }
   ],
   "source": [
    "header"
   ]
  },
  {
   "cell_type": "code",
   "execution_count": 4,
   "metadata": {},
   "outputs": [
    {
     "data": {
      "text/plain": [
       "[['6571244',\n",
       "  'Apple',\n",
       "  'MacBook Pro',\n",
       "  'Ultrabook',\n",
       "  '13.3',\n",
       "  'IPS Panel Retina Display 2560x1600',\n",
       "  'Intel Core i5 2.3GHz',\n",
       "  '8GB',\n",
       "  '128GB SSD',\n",
       "  'Intel Iris Plus Graphics 640',\n",
       "  'macOS',\n",
       "  '1.37kg',\n",
       "  '1339'],\n",
       " ['7287764',\n",
       "  'Apple',\n",
       "  'Macbook Air',\n",
       "  'Ultrabook',\n",
       "  '13.3',\n",
       "  '1440x900',\n",
       "  'Intel Core i5 1.8GHz',\n",
       "  '8GB',\n",
       "  '128GB Flash Storage',\n",
       "  'Intel HD Graphics 6000',\n",
       "  'macOS',\n",
       "  '1.34kg',\n",
       "  '898'],\n",
       " ['3362737',\n",
       "  'HP',\n",
       "  '250 G6',\n",
       "  'Notebook',\n",
       "  '15.6',\n",
       "  'Full HD 1920x1080',\n",
       "  'Intel Core i5 7200U 2.5GHz',\n",
       "  '8GB',\n",
       "  '256GB SSD',\n",
       "  'Intel HD Graphics 620',\n",
       "  'No OS',\n",
       "  '1.86kg',\n",
       "  '575'],\n",
       " ['9722156',\n",
       "  'Apple',\n",
       "  'MacBook Pro',\n",
       "  'Ultrabook',\n",
       "  '15.4',\n",
       "  'IPS Panel Retina Display 2880x1800',\n",
       "  'Intel Core i7 2.7GHz',\n",
       "  '16GB',\n",
       "  '512GB SSD',\n",
       "  'AMD Radeon Pro 455',\n",
       "  'macOS',\n",
       "  '1.83kg',\n",
       "  '2537'],\n",
       " ['8550527',\n",
       "  'Apple',\n",
       "  'MacBook Pro',\n",
       "  'Ultrabook',\n",
       "  '13.3',\n",
       "  'IPS Panel Retina Display 2560x1600',\n",
       "  'Intel Core i5 3.1GHz',\n",
       "  '8GB',\n",
       "  '256GB SSD',\n",
       "  'Intel Iris Plus Graphics 650',\n",
       "  'macOS',\n",
       "  '1.37kg',\n",
       "  '1803']]"
      ]
     },
     "execution_count": 4,
     "metadata": {},
     "output_type": "execute_result"
    }
   ],
   "source": [
    "[*rows[0:5]]"
   ]
  },
  {
   "cell_type": "markdown",
   "metadata": {},
   "source": [
    "### Goal:\n",
    "\n",
    "The goal of this project is to create a class that represents our inventory. The methods in that class will implement the queries that we want to answer about our inventory.\n",
    "\n",
    "Here are some queries that we will want to answer:\n",
    "\n",
    "- Given a laptop id, find the corresponding data.\n",
    "\n",
    "- Given an amount of money, find whether there are two laptops whose total price is that given amount.\n",
    "\n",
    "- Identify all laptops whose price falls within a given budget."
   ]
  },
  {
   "cell_type": "code",
   "execution_count": 5,
   "metadata": {},
   "outputs": [],
   "source": [
    "class Inventory:\n",
    "    def __init__(self,filename):\n",
    "    # we will create the constructor, that takes in the file name and assign the header and rows to variables\n",
    "        with open(filename) as file:\n",
    "            reader = csv.reader(file)\n",
    "            all_rows = list(reader)\n",
    "        self.header = all_rows[0]\n",
    "        self.rows = all_rows[1:]\n",
    "    # while we are creating our class let us also make sure our price is an integer value.\n",
    "        for row in self.rows:\n",
    "            row[-1] = int(row[-1])"
   ]
  },
  {
   "cell_type": "markdown",
   "metadata": {},
   "source": [
    "Let us test to make sure our class works as intended."
   ]
  },
  {
   "cell_type": "code",
   "execution_count": 6,
   "metadata": {},
   "outputs": [],
   "source": [
    "testing_class = Inventory(\"laptops.csv\")"
   ]
  },
  {
   "cell_type": "code",
   "execution_count": 7,
   "metadata": {},
   "outputs": [
    {
     "data": {
      "text/plain": [
       "['Id',\n",
       " 'Company',\n",
       " 'Product',\n",
       " 'TypeName',\n",
       " 'Inches',\n",
       " 'ScreenResolution',\n",
       " 'Cpu',\n",
       " 'Ram',\n",
       " 'Memory',\n",
       " 'Gpu',\n",
       " 'OpSys',\n",
       " 'Weight',\n",
       " 'Price']"
      ]
     },
     "execution_count": 7,
     "metadata": {},
     "output_type": "execute_result"
    }
   ],
   "source": [
    "testing_class.header"
   ]
  },
  {
   "cell_type": "code",
   "execution_count": 8,
   "metadata": {},
   "outputs": [
    {
     "data": {
      "text/plain": [
       "[['6571244',\n",
       "  'Apple',\n",
       "  'MacBook Pro',\n",
       "  'Ultrabook',\n",
       "  '13.3',\n",
       "  'IPS Panel Retina Display 2560x1600',\n",
       "  'Intel Core i5 2.3GHz',\n",
       "  '8GB',\n",
       "  '128GB SSD',\n",
       "  'Intel Iris Plus Graphics 640',\n",
       "  'macOS',\n",
       "  '1.37kg',\n",
       "  1339],\n",
       " ['7287764',\n",
       "  'Apple',\n",
       "  'Macbook Air',\n",
       "  'Ultrabook',\n",
       "  '13.3',\n",
       "  '1440x900',\n",
       "  'Intel Core i5 1.8GHz',\n",
       "  '8GB',\n",
       "  '128GB Flash Storage',\n",
       "  'Intel HD Graphics 6000',\n",
       "  'macOS',\n",
       "  '1.34kg',\n",
       "  898],\n",
       " ['3362737',\n",
       "  'HP',\n",
       "  '250 G6',\n",
       "  'Notebook',\n",
       "  '15.6',\n",
       "  'Full HD 1920x1080',\n",
       "  'Intel Core i5 7200U 2.5GHz',\n",
       "  '8GB',\n",
       "  '256GB SSD',\n",
       "  'Intel HD Graphics 620',\n",
       "  'No OS',\n",
       "  '1.86kg',\n",
       "  575],\n",
       " ['9722156',\n",
       "  'Apple',\n",
       "  'MacBook Pro',\n",
       "  'Ultrabook',\n",
       "  '15.4',\n",
       "  'IPS Panel Retina Display 2880x1800',\n",
       "  'Intel Core i7 2.7GHz',\n",
       "  '16GB',\n",
       "  '512GB SSD',\n",
       "  'AMD Radeon Pro 455',\n",
       "  'macOS',\n",
       "  '1.83kg',\n",
       "  2537],\n",
       " ['8550527',\n",
       "  'Apple',\n",
       "  'MacBook Pro',\n",
       "  'Ultrabook',\n",
       "  '13.3',\n",
       "  'IPS Panel Retina Display 2560x1600',\n",
       "  'Intel Core i5 3.1GHz',\n",
       "  '8GB',\n",
       "  '256GB SSD',\n",
       "  'Intel Iris Plus Graphics 650',\n",
       "  'macOS',\n",
       "  '1.37kg',\n",
       "  1803]]"
      ]
     },
     "execution_count": 8,
     "metadata": {},
     "output_type": "execute_result"
    }
   ],
   "source": [
    "testing_class.rows[:5]"
   ]
  },
  {
   "cell_type": "code",
   "execution_count": 9,
   "metadata": {},
   "outputs": [
    {
     "data": {
      "text/plain": [
       "1303"
      ]
     },
     "execution_count": 9,
     "metadata": {},
     "output_type": "execute_result"
    }
   ],
   "source": [
    "len(testing_class.rows)"
   ]
  },
  {
   "cell_type": "code",
   "execution_count": 10,
   "metadata": {},
   "outputs": [
    {
     "data": {
      "text/plain": [
       "int"
      ]
     },
     "execution_count": 10,
     "metadata": {},
     "output_type": "execute_result"
    }
   ],
   "source": [
    "type(testing_class.rows[0][-1])"
   ]
  },
  {
   "cell_type": "markdown",
   "metadata": {},
   "source": [
    "Let us start by working on the first objective. We want to look up details of a laptop given the specific id. Think of this scenario, a customer walks into your store and picks up a laptop and asks you the specs and price for it. Now in your inventory you have approximately 1300 laptops so there is no way to remember the specs and price for each of them.\n",
    "\n",
    "So let us incorporate that method into our class. Let us call it get_laptop_from_id."
   ]
  },
  {
   "cell_type": "code",
   "execution_count": 11,
   "metadata": {},
   "outputs": [],
   "source": [
    "class Inventory:\n",
    "    def __init__(self,filename):\n",
    "    # we will create the constructor, that takes in the file name and assign the header and rows to variables\n",
    "        with open(filename) as file:\n",
    "            reader = csv.reader(file)\n",
    "            all_rows = list(reader)\n",
    "        self.header = all_rows[0]\n",
    "        self.rows = all_rows[1:]\n",
    "    # while we are creating our class let us also make sure our price is an integer value.\n",
    "        for row in self.rows:\n",
    "            row[-1] = int(row[-1])\n",
    "    \n",
    "    def get_laptop_from_id(self,laptop_id):\n",
    "        for row in self.rows:\n",
    "            #we know id is the first column or at index 0 in our list\n",
    "            if row[0] == laptop_id:\n",
    "                return row\n",
    "        return None\n",
    "        "
   ]
  },
  {
   "cell_type": "markdown",
   "metadata": {},
   "source": [
    "Time to test our method."
   ]
  },
  {
   "cell_type": "code",
   "execution_count": 12,
   "metadata": {},
   "outputs": [
    {
     "name": "stdout",
     "output_type": "stream",
     "text": [
      "['3362737', 'HP', '250 G6', 'Notebook', '15.6', 'Full HD 1920x1080', 'Intel Core i5 7200U 2.5GHz', '8GB', '256GB SSD', 'Intel HD Graphics 620', 'No OS', '1.86kg', 575]\n"
     ]
    }
   ],
   "source": [
    "testing = Inventory(\"laptops.csv\")\n",
    "\n",
    "print(testing.get_laptop_from_id('3362737'))"
   ]
  },
  {
   "cell_type": "code",
   "execution_count": 13,
   "metadata": {},
   "outputs": [
    {
     "name": "stdout",
     "output_type": "stream",
     "text": [
      "None\n"
     ]
    }
   ],
   "source": [
    "print(testing.get_laptop_from_id('3362736'))"
   ]
  },
  {
   "cell_type": "markdown",
   "metadata": {},
   "source": [
    "Everything looks good. The method works as intended, let's move on. Hold on!\n",
    "\n",
    "The question we need to ask here is : \"The method that I implemented, is it extracting data in the most efficient way possible?\" \n",
    "\n",
    "Let's take a logical approach to understanding this. Let's say we were searching for an id that was the very last row. So our for loop will have to look through every row till it reaches the last row to get a result. So if we have N lines, it would take us N time to get a result. (the unit of time is not important, rather to understand at what rate the time to get a result will change if the data changes).\n",
    "\n",
    "Now you might argue that is not true for every id. One id might be at the very first row, one in the middle and so on. That is true, but we as data engineers focus on the worst case possible. That way you are prepared for it.\n",
    "\n",
    "Think of it this way, you don't need to pay all this money for fire insurance. You are careful and what are the odds right?. We still get it because we assume that the worst case can happen. \n",
    "\n",
    "So we know the worst case. Now how do we prepare for it. Is there a better method to search for an id? Yes.\n",
    "\n",
    "Let's say you have a a huge shelf. You classify each space using labels. So a label for ketchup, a label for mustard and a label for drinks. Now anyone searching for a product can easily find where it is based on the labels instead of individually checking each space.\n",
    "\n",
    "Does this idea of labels sound familiar. The concept is similar to dictionaries. Dictionaries have much faster lookups than list. Now the the reason as to why can get complex. A simple explanation is the way dictionaries are built. Each key in the dictionary has to be unique and immutable (cannot be changed). Lists on the other hand are mutable. \n",
    "\n",
    "Going back to our example, if you didn't have labels on your shelf, then ketchup can be anywhere. Even if you find it in the first try, you still have to look through the entire shelf to make sure there is not more than one. But with labels, we know ketchup can only and only go in its corresponding label. There is no way it will be anywhere else.\n",
    "\n",
    "We know our laptop_id's are unique, hence we can easily make the id's as key in our dictionary. You might be wondering why not use sets. Elements in a set have to be unique and immutable too. Yes, we would use sets if we only wanted to check if we had a particular id in stock. But we also need other information about the laptop (which remember is not unique. you can have more than one apple products.)\n",
    "\n",
    "So let us use this information now and make our method more efficient. "
   ]
  },
  {
   "cell_type": "code",
   "execution_count": 14,
   "metadata": {},
   "outputs": [],
   "source": [
    "class Inventory:\n",
    "    def __init__(self,filename):\n",
    "    # we will create the constructor, that takes in the file name and assign the header and rows to variables\n",
    "        with open(filename) as file:\n",
    "            reader = csv.reader(file)\n",
    "            all_rows = list(reader)\n",
    "        self.header = all_rows[0]\n",
    "        self.rows = all_rows[1:]\n",
    "    # while we are creating our class let us also make sure our price is an integer value.\n",
    "        for row in self.rows:\n",
    "            row[-1] = int(row[-1])\n",
    "            \n",
    "        #create a dictionary with id as key and rest of the columns as values\n",
    "        self.id_to_row = {row[0]:row[1:] for row in self.rows}\n",
    "        \n",
    "    \n",
    "    def get_laptop_from_id(self,laptop_id):\n",
    "        for row in self.rows:\n",
    "            #we know id is the first column or at index 0 in our list\n",
    "            if row[0] == laptop_id:\n",
    "                return row\n",
    "        return None\n",
    "    \n",
    "    def get_laptop_from_id_fast(self,laptop_id):\n",
    "        if laptop_id in self.id_to_row:\n",
    "            return self.id_to_row[laptop_id]\n",
    "        return None"
   ]
  },
  {
   "cell_type": "code",
   "execution_count": 15,
   "metadata": {},
   "outputs": [
    {
     "name": "stdout",
     "output_type": "stream",
     "text": [
      "['HP', '250 G6', 'Notebook', '15.6', 'Full HD 1920x1080', 'Intel Core i5 7200U 2.5GHz', '8GB', '256GB SSD', 'Intel HD Graphics 620', 'No OS', '1.86kg', 575]\n",
      "None\n"
     ]
    }
   ],
   "source": [
    "test = Inventory(\"laptops.csv\")\n",
    "\n",
    "print(test.get_laptop_from_id_fast('3362737'))\n",
    "print(test.get_laptop_from_id_fast('3362736'))"
   ]
  },
  {
   "cell_type": "code",
   "execution_count": 16,
   "metadata": {},
   "outputs": [
    {
     "data": {
      "text/plain": [
       "1303"
      ]
     },
     "execution_count": 16,
     "metadata": {},
     "output_type": "execute_result"
    }
   ],
   "source": [
    "len(test.id_to_row.keys())"
   ]
  },
  {
   "cell_type": "markdown",
   "metadata": {},
   "source": [
    "That's a lot of extra work or 1300 rows. While that's true, part of a data engineer's job is to also think ahead. Tomorrow your inventory might increase to 5000, 50000 even 5M. So why wait for a problem or bottleneck to arise when you can think proactively and account for it earlier. \n",
    "\n",
    "Let us test our efficient implementation. We have to be able to justify all this extra work."
   ]
  },
  {
   "cell_type": "code",
   "execution_count": 17,
   "metadata": {},
   "outputs": [],
   "source": [
    "import time \n",
    "import random \n",
    "\n",
    "#create 50,000 test ids. remember our id value is a string.\n",
    "test_ids = [str(random.randint(1000000,9999999)) for _ in range(10000)]\n",
    "test = Inventory(\"laptops.csv\")\n",
    "\n",
    "time_no_dict = 0\n",
    "\n",
    "for x in test_ids:\n",
    "    start = time.time()\n",
    "    # we don't care about the output at this point\n",
    "    test.get_laptop_from_id(x)\n",
    "    end = time.time()\n",
    "    time_no_dict += (end - start)\n",
    "    \n",
    "time_with_dict = 0\n",
    "\n",
    "for y in test_ids:\n",
    "    start = time.time()\n",
    "    # we don't care about the output at this point\n",
    "    test.get_laptop_from_id_fast(y)\n",
    "    end = time.time()\n",
    "    time_with_dict += (end - start)\n"
   ]
  },
  {
   "cell_type": "code",
   "execution_count": 18,
   "metadata": {},
   "outputs": [
    {
     "name": "stdout",
     "output_type": "stream",
     "text": [
      "0.8495044708251953\n",
      "0.00500035285949707\n"
     ]
    }
   ],
   "source": [
    "print(time_no_dict)\n",
    "print(time_with_dict)"
   ]
  },
  {
   "cell_type": "markdown",
   "metadata": {},
   "source": [
    "The next functionality we want to add is : Given an amount of money, find whether there are two laptops whose total price is that given amount. Let's make this scenario more business specific. Recently we decided to have a promotion where offer long time customer gift cards. \n",
    "\n",
    "A customer can use the gift card to buy up to two laptops. To avoid having to keep track of what was already spent, the gift card has a single time usage. This means that, even if there is leftover money, it cannot be used anymore.\n",
    "\n",
    "You also don't want to make a customer feel cheated, so whenever you issue a gift card, you want to make sure that there is at least one way to spend it in full. In other words, before issuing a gift card for D dollars, you want to make sure that either there is a laptop that costs exactly D dollars or two laptops whose costs add up to precisely D dollars."
   ]
  },
  {
   "cell_type": "code",
   "execution_count": 19,
   "metadata": {},
   "outputs": [],
   "source": [
    "class Inventory:\n",
    "    def __init__(self,filename):\n",
    "    # we will create the constructor, that takes in the file name and assign the header and rows to variables\n",
    "        with open(filename) as file:\n",
    "            reader = csv.reader(file)\n",
    "            all_rows = list(reader)\n",
    "        self.header = all_rows[0]\n",
    "        self.rows = all_rows[1:]\n",
    "    # while we are creating our class let us also make sure our price is an integer value.\n",
    "        for row in self.rows:\n",
    "            row[-1] = int(row[-1])\n",
    "            \n",
    "        #create a dictionary with id as key and rest of the columns as values\n",
    "        self.id_to_row = {row[0]:row[1:] for row in self.rows}\n",
    "        \n",
    "    \n",
    "    def get_laptop_from_id(self,laptop_id):\n",
    "        for row in self.rows:\n",
    "            #we know id is the first column or at index 0 in our list\n",
    "            if row[0] == laptop_id:\n",
    "                return row\n",
    "        return None\n",
    "    \n",
    "    def get_laptop_from_id_fast(self,laptop_id):\n",
    "        if laptop_id in self.id_to_row:\n",
    "            return self.id_to_row[laptop_id]\n",
    "        return None\n",
    "    \n",
    "    def check_promotion_dollars(self,dollars):\n",
    "        #check if there is atleast one laptop with the dollars amount\n",
    "        for row in self.rows:\n",
    "            if row[-1] == dollars:\n",
    "                return True\n",
    "        #check if there are two laptops that can be bought with the gift card amount\n",
    "        for i in self.rows:\n",
    "            for j in self.rows:\n",
    "                if i[-1] + j[-1] == dollars:\n",
    "                    return True\n",
    "        return False"
   ]
  },
  {
   "cell_type": "code",
   "execution_count": 20,
   "metadata": {},
   "outputs": [
    {
     "name": "stdout",
     "output_type": "stream",
     "text": [
      "True\n",
      "False\n"
     ]
    }
   ],
   "source": [
    "test = Inventory(\"laptops.csv\")\n",
    "print(test.check_promotion_dollars(1000))\n",
    "print(test.check_promotion_dollars(442))"
   ]
  },
  {
   "cell_type": "markdown",
   "metadata": {},
   "source": [
    "Now our method works. But is it efficient? This is the apporoach we must always take especially when building solutions as a data engineer.\n",
    "\n",
    "There is caveat to efficieny. We use up more memory. We are already storing rows as a list. Then we stored it as a dictionary. Not to mention creating these different objects requires time as well. Imagine we have 5M rows. You can see how memory comes into play as data size increases.\n",
    "\n",
    "We are willing to preprocess at the expense of memory because we want faster results. Speed for us is an important factor. There might be cases where speed is not an important factor but rather storage. Our approach would then be different. \n",
    "\n",
    "Back to making our method more efficient. Let's break it down logically. We only want to check prices. We can preprocess all the prices and store them as a set. The reason being that sets like dictionaries have faster lookups. Each element in a set has to be unique and immutable. Unlike lists, sets are unordered.\n",
    "\n",
    "So let's implement a more efficient method for check_promotion_dollars."
   ]
  },
  {
   "cell_type": "code",
   "execution_count": 21,
   "metadata": {},
   "outputs": [],
   "source": [
    "class Inventory:\n",
    "    def __init__(self,filename):\n",
    "    # we will create the constructor, that takes in the file name and assign the header and rows to variables\n",
    "        with open(filename) as file:\n",
    "            reader = csv.reader(file)\n",
    "            all_rows = list(reader)\n",
    "        self.header = all_rows[0]\n",
    "        self.rows = all_rows[1:]\n",
    "    # while we are creating our class let us also make sure our price is an integer value.\n",
    "        for row in self.rows:\n",
    "            row[-1] = int(row[-1])\n",
    "            \n",
    "        #create a dictionary with id as key and rest of the columns as values\n",
    "        self.id_to_row = {row[0]:row[1:] for row in self.rows}\n",
    "        \n",
    "        #create a set with prices\n",
    "        self.prices = {row[-1] for row in self.rows}\n",
    "    \n",
    "    def get_laptop_from_id(self,laptop_id):\n",
    "        for row in self.rows:\n",
    "            #we know id is the first column or at index 0 in our list\n",
    "            if row[0] == laptop_id:\n",
    "                return row\n",
    "        return None\n",
    "    \n",
    "    def get_laptop_from_id_fast(self,laptop_id):\n",
    "        if laptop_id in self.id_to_row:\n",
    "            return self.id_to_row[laptop_id]\n",
    "        return None\n",
    "    \n",
    "    def check_promotion_dollars(self,dollars):\n",
    "        #check if there is atleast one laptop with the dollars amount\n",
    "        for row in self.rows:\n",
    "            if row[-1] == dollars:\n",
    "                return True\n",
    "        #check if there are two laptops that can be bought with the gift card amount\n",
    "        for i in self.rows:\n",
    "            for j in self.rows:\n",
    "                if i[-1] + j[-1] == dollars:\n",
    "                    return True\n",
    "        return False\n",
    "    \n",
    "    def check_promotion_dollars_fast(self,dollars):\n",
    "        if dollars in self.prices:\n",
    "            return True\n",
    "        for prices in self.prices:\n",
    "            if dollars - prices in self.prices:\n",
    "                return True\n",
    "        return False"
   ]
  },
  {
   "cell_type": "code",
   "execution_count": 22,
   "metadata": {},
   "outputs": [
    {
     "name": "stdout",
     "output_type": "stream",
     "text": [
      "True\n",
      "False\n"
     ]
    }
   ],
   "source": [
    "test = Inventory('laptops.csv')                 \n",
    "print(test.check_promotion_dollars_fast(1000))  \n",
    "print(test.check_promotion_dollars_fast(442))  "
   ]
  },
  {
   "cell_type": "markdown",
   "metadata": {},
   "source": [
    "Like we did previously, let's compare performances."
   ]
  },
  {
   "cell_type": "code",
   "execution_count": 23,
   "metadata": {},
   "outputs": [],
   "source": [
    "test_prices = [random.randint(100,5000) for _ in range(1000)]\n",
    "test = Inventory(\"laptops.csv\")\n",
    "\n",
    "time_no_set = 0\n",
    "\n",
    "for x in test_prices:\n",
    "    start = time.time()\n",
    "    # we don't care about the output at this point\n",
    "    test.check_promotion_dollars(x)\n",
    "    end = time.time()\n",
    "    time_no_set += (end - start)\n",
    "    \n",
    "time_with_set = 0\n",
    "\n",
    "for y in test_prices:\n",
    "    start = time.time()\n",
    "    # we don't care about the output at this point\n",
    "    test.check_promotion_dollars_fast(y)\n",
    "    end = time.time()\n",
    "    time_with_set += (end - start)\n"
   ]
  },
  {
   "cell_type": "code",
   "execution_count": 24,
   "metadata": {},
   "outputs": [
    {
     "name": "stdout",
     "output_type": "stream",
     "text": [
      "12.040169715881348\n",
      "0.0\n"
     ]
    }
   ],
   "source": [
    "print(time_no_set)\n",
    "print(time_with_set)"
   ]
  },
  {
   "cell_type": "markdown",
   "metadata": {},
   "source": [
    "The last functionality we want to add is : Given a budget of D dollars, find all laptops whose price it at most D.\n",
    "\n",
    "Let's break down this problem logically. Our output is now going to be a range or to be more specific all laptops who price is <= D dollars. To understand how we can code this efficiently, let's take a look at an example.\n",
    "\n",
    "One approach is to go through the price of each laptop and if it is less than or equal to D dollars, then store it in a separate list and return the list at the end. We know from our past methods that this approach is costly in terms of time.\n",
    "\n",
    "Instead let's look at another approach. Let's say you have 100 people aged 20 - 50 years old. You want to find out all people who between 25 - 30. First we ask all of them to stand in ascending order based on age. We know the first person is the youngest and the last person in line is the oldest.\n",
    "\n",
    "Then we move to the middle of the line and ask the person their age. They say 40. Since they are standing in ascending order, we can safely say that **all people after the middle do not contain our target audience**. So in our very first try, we eliminate at least half of the data to look through.\n",
    "\n",
    "We repeat the process again and go the middle of the now **shorter line**. As you can see this reptitive process helps us eliminate large volumes data till we reach our target. This is a simple explanation of a **binary search algorithm**. \n",
    "\n",
    "Binary search has O(Log(N)) time complexity, which is much faster than O(N). Time complexity is in simple words a model that tells us how execution time will change as data changes. O(N) can be interpreted as processing time will increase proportionally with data. O(N^2) known as quadratic time complexity, tells us that processing time will quadruple if the size of the data doubled. So even without running the data you can already tell that such an algorithm will not be very useful in our business setting.\n",
    "\n",
    "We can use binary search to find all laptops with prices less than D dollars. We have to be careful here though. We have duplicate price value since different laptop brands have the same price. We have to find the **first** laptop with a price higher than D dollars. Once we know the index of that laptop we can then return all rows are below that index, which will give us all the laptops with price equal to or less than D dollars.\n",
    "\n",
    "First let us sort the rows by prices."
   ]
  },
  {
   "cell_type": "code",
   "execution_count": 27,
   "metadata": {},
   "outputs": [],
   "source": [
    "class Inventory:\n",
    "    def __init__(self,filename):\n",
    "    # we will create the constructor, that takes in the file name and assign the header and rows to variables\n",
    "        with open(filename) as file:\n",
    "            reader = csv.reader(file)\n",
    "            all_rows = list(reader)\n",
    "        self.header = all_rows[0]\n",
    "        self.rows = all_rows[1:]\n",
    "    # while we are creating our class let us also make sure our price is an integer value.\n",
    "        for row in self.rows:\n",
    "            row[-1] = int(row[-1])\n",
    "            \n",
    "        #create a dictionary with id as key and rest of the columns as values\n",
    "        self.id_to_row = {row[0]:row[1:] for row in self.rows}\n",
    "        \n",
    "        #create a set with prices\n",
    "        self.prices = {row[-1] for row in self.rows}\n",
    "        \n",
    "        #sort the rows by price for binary search\n",
    "        self.rows_by_price = sorted(self.rows, key = lambda x: x[-1])\n",
    "    \n",
    "    def get_laptop_from_id(self,laptop_id):\n",
    "        for row in self.rows:\n",
    "            #we know id is the first column or at index 0 in our list\n",
    "            if row[0] == laptop_id:\n",
    "                return row\n",
    "        return None\n",
    "    \n",
    "    def get_laptop_from_id_fast(self,laptop_id):\n",
    "        if laptop_id in self.id_to_row:\n",
    "            return self.id_to_row[laptop_id]\n",
    "        return None\n",
    "    \n",
    "    def check_promotion_dollars(self,dollars):\n",
    "        #check if there is atleast one laptop with the dollars amount\n",
    "        for row in self.rows:\n",
    "            if row[-1] == dollars:\n",
    "                return True\n",
    "        #check if there are two laptops that can be bought with the gift card amount\n",
    "        for i in self.rows:\n",
    "            for j in self.rows:\n",
    "                if i[-1] + j[-1] == dollars:\n",
    "                    return True\n",
    "        return False\n",
    "    \n",
    "    def check_promotion_dollars_fast(self,dollars):\n",
    "        if dollars in self.prices:\n",
    "            return True\n",
    "        for prices in self.prices:\n",
    "            if dollars - prices in self.prices:\n",
    "                return True\n",
    "        return False\n",
    "    \n",
    "    def find_first_laptop_more_expensive(self, target_price):\n",
    "        range_start = 0                                   \n",
    "        range_end = len(self.rows_by_price) - 1                   \n",
    "        while range_start < range_end:\n",
    "            range_middle = (range_end + range_start) // 2  \n",
    "            price = self.rows_by_price[range_middle][-1]\n",
    "            if price > target_price:\n",
    "                range_end = range_middle\n",
    "            else:\n",
    "                range_start = range_middle + 1\n",
    "        if self.rows_by_price[range_start][-1] <= target_price:\n",
    "            #this means that all our laptops are below or at most D dollars\n",
    "            return -1\n",
    "        #the first laptop with price greater than D dollars. All laptops below it are less than D dollars\n",
    "        return range_start"
   ]
  },
  {
   "cell_type": "code",
   "execution_count": 28,
   "metadata": {},
   "outputs": [
    {
     "name": "stdout",
     "output_type": "stream",
     "text": [
      "683\n",
      "-1\n"
     ]
    }
   ],
   "source": [
    "test = Inventory('laptops.csv')                               \n",
    "print(test.find_first_laptop_more_expensive(1000))\n",
    "print(test.find_first_laptop_more_expensive(10000)) "
   ]
  },
  {
   "cell_type": "markdown",
   "metadata": {},
   "source": [
    "In the real world, we have a lot data and questions that need to be answered regarding it. The class that we created is very data specific. We cannot use to answer questions regarding sales data for example.\n",
    "\n",
    "Building a class for every dataset and designing queries for each class can be cumbersome. A more efficient approach would be too upload all our data in a database.\n",
    "\n",
    "That way we can use a language such as sql and query varying questions regarding all sorts of data. Not only is the language much easier to work with, most databases come with built in mechanisms under the hood to make queries run faster.\n",
    "\n",
    "In my next project, I'll use a database to answer the same business questions we did in this notebook. That way we can compare which approach is faster, efficient and easy to manage.\n",
    "\n",
    "**Author's Note**\n",
    "I'd also like to thank you for taking the time to go through my work. I am constantly learning and looking to improve. Any feedback you provide will only help me get better."
   ]
  }
 ],
 "metadata": {
  "kernelspec": {
   "display_name": "Python 3",
   "language": "python",
   "name": "python3"
  },
  "language_info": {
   "codemirror_mode": {
    "name": "ipython",
    "version": 3
   },
   "file_extension": ".py",
   "mimetype": "text/x-python",
   "name": "python",
   "nbconvert_exporter": "python",
   "pygments_lexer": "ipython3",
   "version": "3.7.4"
  }
 },
 "nbformat": 4,
 "nbformat_minor": 2
}
